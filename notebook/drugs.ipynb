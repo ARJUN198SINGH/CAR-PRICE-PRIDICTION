{
 "cells": [
  {
   "cell_type": "code",
   "execution_count": 1,
   "id": "1d2e6125-b908-4fef-a44e-54f83bc95637",
   "metadata": {},
   "outputs": [],
   "source": [
    "import pandas as pd\n",
    "df=pd.read_csv('drug200.csv')"
   ]
  },
  {
   "cell_type": "code",
   "execution_count": 2,
   "id": "57482482-1d73-4f1b-a14d-2f16a939bf0e",
   "metadata": {},
   "outputs": [
    {
     "data": {
      "text/html": [
       "<div>\n",
       "<style scoped>\n",
       "    .dataframe tbody tr th:only-of-type {\n",
       "        vertical-align: middle;\n",
       "    }\n",
       "\n",
       "    .dataframe tbody tr th {\n",
       "        vertical-align: top;\n",
       "    }\n",
       "\n",
       "    .dataframe thead th {\n",
       "        text-align: right;\n",
       "    }\n",
       "</style>\n",
       "<table border=\"1\" class=\"dataframe\">\n",
       "  <thead>\n",
       "    <tr style=\"text-align: right;\">\n",
       "      <th></th>\n",
       "      <th>Age</th>\n",
       "      <th>Sex</th>\n",
       "      <th>BP</th>\n",
       "      <th>Cholesterol</th>\n",
       "      <th>Na_to_K</th>\n",
       "      <th>Drug</th>\n",
       "    </tr>\n",
       "  </thead>\n",
       "  <tbody>\n",
       "    <tr>\n",
       "      <th>0</th>\n",
       "      <td>23</td>\n",
       "      <td>F</td>\n",
       "      <td>HIGH</td>\n",
       "      <td>HIGH</td>\n",
       "      <td>25.355</td>\n",
       "      <td>DrugY</td>\n",
       "    </tr>\n",
       "    <tr>\n",
       "      <th>1</th>\n",
       "      <td>47</td>\n",
       "      <td>M</td>\n",
       "      <td>LOW</td>\n",
       "      <td>HIGH</td>\n",
       "      <td>13.093</td>\n",
       "      <td>drugC</td>\n",
       "    </tr>\n",
       "  </tbody>\n",
       "</table>\n",
       "</div>"
      ],
      "text/plain": [
       "   Age Sex    BP Cholesterol  Na_to_K   Drug\n",
       "0   23   F  HIGH        HIGH   25.355  DrugY\n",
       "1   47   M   LOW        HIGH   13.093  drugC"
      ]
     },
     "execution_count": 2,
     "metadata": {},
     "output_type": "execute_result"
    }
   ],
   "source": [
    "df.head(2)"
   ]
  },
  {
   "cell_type": "code",
   "execution_count": 3,
   "id": "24c956df-99a7-462f-830e-af0ba7245e1d",
   "metadata": {},
   "outputs": [],
   "source": [
    "from sklearn.preprocessing import OrdinalEncoder\n",
    "oe=OrdinalEncoder(categories=[['DrugY', 'drugC', 'drugX', 'drugA', 'drugB']])\n",
    "df['Drug']=oe.fit_transform(df[['Drug']])\n"
   ]
  },
  {
   "cell_type": "code",
   "execution_count": 4,
   "id": "eafa0e5d-9976-477a-ad35-3d0003f9210b",
   "metadata": {},
   "outputs": [],
   "source": [
    "from sklearn.preprocessing import OneHotEncoder\n",
    "one=OneHotEncoder()\n",
    "one.fit_transform(df[['Sex']])\n",
    "a=pd.DataFrame(data=one.fit_transform(df[['Sex']]).toarray(),columns=one.get_feature_names_out())"
   ]
  },
  {
   "cell_type": "code",
   "execution_count": 5,
   "id": "66c526ff-df81-4729-ac41-bd6097831b8d",
   "metadata": {},
   "outputs": [],
   "source": [
    "from sklearn.preprocessing import OneHotEncoder\n",
    "one=OneHotEncoder()\n",
    "one.fit_transform(df[['BP']])\n",
    "b=pd.DataFrame(data=one.fit_transform(df[['BP']]).toarray(),columns=one.get_feature_names_out())"
   ]
  },
  {
   "cell_type": "code",
   "execution_count": 6,
   "id": "5ed66ec5-c4a6-4b49-bfb5-8957f5b1fb4f",
   "metadata": {},
   "outputs": [],
   "source": [
    "from sklearn.preprocessing import OneHotEncoder\n",
    "one=OneHotEncoder()\n",
    "one.fit_transform(df[['Cholesterol']])\n",
    "c=pd.DataFrame(data=one.fit_transform(df[['Cholesterol']]).toarray(),columns=one.get_feature_names_out())"
   ]
  },
  {
   "cell_type": "code",
   "execution_count": 7,
   "id": "80b13239-00f5-40bf-aded-f72a3201e216",
   "metadata": {},
   "outputs": [],
   "source": [
    "df=pd.concat([df,a,b,c],axis=1)"
   ]
  },
  {
   "cell_type": "code",
   "execution_count": 8,
   "id": "7e3cb0ef-2afb-4357-b02b-36442afbb816",
   "metadata": {},
   "outputs": [],
   "source": [
    "df.drop(['Sex','BP','Cholesterol'],axis=1,inplace=True)"
   ]
  },
  {
   "cell_type": "code",
   "execution_count": 9,
   "id": "150df7c5-6434-449b-96af-e7279762c6ad",
   "metadata": {},
   "outputs": [
    {
     "data": {
      "text/html": [
       "<div>\n",
       "<style scoped>\n",
       "    .dataframe tbody tr th:only-of-type {\n",
       "        vertical-align: middle;\n",
       "    }\n",
       "\n",
       "    .dataframe tbody tr th {\n",
       "        vertical-align: top;\n",
       "    }\n",
       "\n",
       "    .dataframe thead th {\n",
       "        text-align: right;\n",
       "    }\n",
       "</style>\n",
       "<table border=\"1\" class=\"dataframe\">\n",
       "  <thead>\n",
       "    <tr style=\"text-align: right;\">\n",
       "      <th></th>\n",
       "      <th>Age</th>\n",
       "      <th>Na_to_K</th>\n",
       "      <th>Drug</th>\n",
       "      <th>Sex_F</th>\n",
       "      <th>Sex_M</th>\n",
       "      <th>BP_HIGH</th>\n",
       "      <th>BP_LOW</th>\n",
       "      <th>BP_NORMAL</th>\n",
       "      <th>Cholesterol_HIGH</th>\n",
       "      <th>Cholesterol_NORMAL</th>\n",
       "    </tr>\n",
       "  </thead>\n",
       "  <tbody>\n",
       "    <tr>\n",
       "      <th>0</th>\n",
       "      <td>23</td>\n",
       "      <td>25.355</td>\n",
       "      <td>0.0</td>\n",
       "      <td>1.0</td>\n",
       "      <td>0.0</td>\n",
       "      <td>1.0</td>\n",
       "      <td>0.0</td>\n",
       "      <td>0.0</td>\n",
       "      <td>1.0</td>\n",
       "      <td>0.0</td>\n",
       "    </tr>\n",
       "    <tr>\n",
       "      <th>1</th>\n",
       "      <td>47</td>\n",
       "      <td>13.093</td>\n",
       "      <td>1.0</td>\n",
       "      <td>0.0</td>\n",
       "      <td>1.0</td>\n",
       "      <td>0.0</td>\n",
       "      <td>1.0</td>\n",
       "      <td>0.0</td>\n",
       "      <td>1.0</td>\n",
       "      <td>0.0</td>\n",
       "    </tr>\n",
       "  </tbody>\n",
       "</table>\n",
       "</div>"
      ],
      "text/plain": [
       "   Age  Na_to_K  Drug  Sex_F  Sex_M  BP_HIGH  BP_LOW  BP_NORMAL  \\\n",
       "0   23   25.355   0.0    1.0    0.0      1.0     0.0        0.0   \n",
       "1   47   13.093   1.0    0.0    1.0      0.0     1.0        0.0   \n",
       "\n",
       "   Cholesterol_HIGH  Cholesterol_NORMAL  \n",
       "0               1.0                 0.0  \n",
       "1               1.0                 0.0  "
      ]
     },
     "execution_count": 9,
     "metadata": {},
     "output_type": "execute_result"
    }
   ],
   "source": [
    "df.head(2)"
   ]
  },
  {
   "cell_type": "code",
   "execution_count": 10,
   "id": "1cbdace8-38f6-4d69-b5a4-a1176cedc80a",
   "metadata": {},
   "outputs": [],
   "source": [
    "x=df.drop('Drug',axis=1)\n",
    "y=df.Drug"
   ]
  },
  {
   "cell_type": "code",
   "execution_count": 11,
   "id": "4216acfc-2622-4287-abd8-d453bc7d0d6d",
   "metadata": {},
   "outputs": [],
   "source": [
    "from sklearn.model_selection import train_test_split\n",
    "X_train,X_test,y_train,y_test=train_test_split(x,y,random_state=0,test_size=0.20)"
   ]
  },
  {
   "cell_type": "code",
   "execution_count": 12,
   "id": "608ce804-5e81-40ed-8b36-e30350f66311",
   "metadata": {},
   "outputs": [],
   "source": [
    "from sklearn.preprocessing import OneHotEncoder\n",
    "from sklearn.pipeline import Pipeline\n",
    "from sklearn.compose import ColumnTransformer\n",
    "from sklearn.preprocessing import StandardScaler\n",
    "from sklearn.impute import SimpleImputer"
   ]
  },
  {
   "cell_type": "code",
   "execution_count": 13,
   "id": "ed673794-4bbb-4113-8381-ff6444a78191",
   "metadata": {},
   "outputs": [],
   "source": [
    "ss=StandardScaler()\n",
    "X_train_ss=ss.fit_transform(X_train)\n",
    "X_test_ss=ss.transform(X_test)"
   ]
  },
  {
   "cell_type": "code",
   "execution_count": 14,
   "id": "3fd61b4d-4a86-4a5b-b651-95791518a7a1",
   "metadata": {},
   "outputs": [],
   "source": [
    "from sklearn.linear_model import LogisticRegression\n",
    "from sklearn.tree import DecisionTreeClassifier\n",
    "from sklearn.svm import SVC\n",
    "from sklearn.ensemble import RandomForestClassifier\n",
    "from sklearn.ensemble import GradientBoostingClassifier\n",
    "from sklearn.naive_bayes import GaussianNB\n",
    "from sklearn.neighbors import KNeighborsClassifier\n",
    "from sklearn.metrics import accuracy_score,confusion_matrix"
   ]
  },
  {
   "cell_type": "code",
   "execution_count": 15,
   "id": "5705a572-2e52-4379-977f-8f98aaea8526",
   "metadata": {},
   "outputs": [],
   "source": [
    "model=[LogisticRegression(),DecisionTreeClassifier(),SVC(),RandomForestClassifier(),GradientBoostingClassifier(),GaussianNB(),KNeighborsClassifier()]\n"
   ]
  },
  {
   "cell_type": "code",
   "execution_count": 16,
   "id": "ededbf32-215d-4917-9910-5a803aa715d4",
   "metadata": {},
   "outputs": [
    {
     "name": "stdout",
     "output_type": "stream",
     "text": [
      "1.0\n",
      "[[19  0  0  0  0]\n",
      " [ 0  3  0  0  0]\n",
      " [ 0  0 14  0  0]\n",
      " [ 0  0  0  3  0]\n",
      " [ 0  0  0  0  1]]\n",
      "888888\n",
      "1.0\n",
      "[[19  0  0  0  0]\n",
      " [ 0  3  0  0  0]\n",
      " [ 0  0 14  0  0]\n",
      " [ 0  0  0  3  0]\n",
      " [ 0  0  0  0  1]]\n",
      "888888\n",
      "0.925\n",
      "[[16  1  2  0  0]\n",
      " [ 0  3  0  0  0]\n",
      " [ 0  0 14  0  0]\n",
      " [ 0  0  0  3  0]\n",
      " [ 0  0  0  0  1]]\n",
      "888888\n",
      "1.0\n",
      "[[19  0  0  0  0]\n",
      " [ 0  3  0  0  0]\n",
      " [ 0  0 14  0  0]\n",
      " [ 0  0  0  3  0]\n",
      " [ 0  0  0  0  1]]\n",
      "888888\n",
      "0.975\n",
      "[[19  0  0  0  0]\n",
      " [ 0  2  1  0  0]\n",
      " [ 0  0 14  0  0]\n",
      " [ 0  0  0  3  0]\n",
      " [ 0  0  0  0  1]]\n",
      "888888\n",
      "0.675\n",
      "[[ 6  3  5  4  1]\n",
      " [ 0  3  0  0  0]\n",
      " [ 0  0 14  0  0]\n",
      " [ 0  0  0  3  0]\n",
      " [ 0  0  0  0  1]]\n",
      "888888\n",
      "0.725\n",
      "[[12  1  4  1  1]\n",
      " [ 0  3  0  0  0]\n",
      " [ 4  0 10  0  0]\n",
      " [ 0  0  0  3  0]\n",
      " [ 0  0  0  0  1]]\n",
      "888888\n"
     ]
    }
   ],
   "source": [
    "for i in model:\n",
    "    k=i\n",
    "    k.fit(X_train_ss,y_train)\n",
    "    y_pred=k.predict(X_test_ss)\n",
    "    print(accuracy_score(y_test,y_pred))\n",
    "    print(confusion_matrix(y_test,y_pred))\n",
    "    print('888888')"
   ]
  },
  {
   "cell_type": "code",
   "execution_count": 17,
   "id": "9859969f-c1db-46a1-b32b-74d701acc118",
   "metadata": {},
   "outputs": [],
   "source": [
    "lr=LogisticRegression()\n",
    "lr.fit(X_train_ss,y_train)\n",
    "y_pred1=lr.predict(X_test_ss)"
   ]
  },
  {
   "cell_type": "code",
   "execution_count": 18,
   "id": "dd34ca89-8e1d-4eac-a840-fda825c8ff1f",
   "metadata": {},
   "outputs": [
    {
     "data": {
      "text/plain": [
       "array([1., 2., 0., 0., 0., 2., 2., 2., 0., 2., 3., 0., 0., 0., 4., 1., 0.,\n",
       "       0., 2., 0., 0., 2., 2., 2., 0., 0., 0., 0., 0., 2., 2., 1., 3., 2.,\n",
       "       0., 0., 2., 0., 3., 2.])"
      ]
     },
     "execution_count": 18,
     "metadata": {},
     "output_type": "execute_result"
    }
   ],
   "source": [
    "y_pred1"
   ]
  },
  {
   "cell_type": "code",
   "execution_count": 28,
   "id": "a898a102-2d31-416c-ae55-773ca6755a8a",
   "metadata": {},
   "outputs": [
    {
     "data": {
      "text/html": [
       "<div>\n",
       "<style scoped>\n",
       "    .dataframe tbody tr th:only-of-type {\n",
       "        vertical-align: middle;\n",
       "    }\n",
       "\n",
       "    .dataframe tbody tr th {\n",
       "        vertical-align: top;\n",
       "    }\n",
       "\n",
       "    .dataframe thead th {\n",
       "        text-align: right;\n",
       "    }\n",
       "</style>\n",
       "<table border=\"1\" class=\"dataframe\">\n",
       "  <thead>\n",
       "    <tr style=\"text-align: right;\">\n",
       "      <th></th>\n",
       "      <th>Age</th>\n",
       "      <th>Na_to_K</th>\n",
       "      <th>Drug</th>\n",
       "      <th>Sex_F</th>\n",
       "      <th>Sex_M</th>\n",
       "      <th>BP_HIGH</th>\n",
       "      <th>BP_LOW</th>\n",
       "      <th>BP_NORMAL</th>\n",
       "      <th>Cholesterol_HIGH</th>\n",
       "      <th>Cholesterol_NORMAL</th>\n",
       "    </tr>\n",
       "  </thead>\n",
       "  <tbody>\n",
       "    <tr>\n",
       "      <th>66</th>\n",
       "      <td>29</td>\n",
       "      <td>12.856</td>\n",
       "      <td>3.0</td>\n",
       "      <td>0.0</td>\n",
       "      <td>1.0</td>\n",
       "      <td>1.0</td>\n",
       "      <td>0.0</td>\n",
       "      <td>0.0</td>\n",
       "      <td>1.0</td>\n",
       "      <td>0.0</td>\n",
       "    </tr>\n",
       "  </tbody>\n",
       "</table>\n",
       "</div>"
      ],
      "text/plain": [
       "    Age  Na_to_K  Drug  Sex_F  Sex_M  BP_HIGH  BP_LOW  BP_NORMAL  \\\n",
       "66   29   12.856   3.0    0.0    1.0      1.0     0.0        0.0   \n",
       "\n",
       "    Cholesterol_HIGH  Cholesterol_NORMAL  \n",
       "66               1.0                 0.0  "
      ]
     },
     "execution_count": 28,
     "metadata": {},
     "output_type": "execute_result"
    }
   ],
   "source": [
    "df.iloc[66:67,:]"
   ]
  },
  {
   "cell_type": "code",
   "execution_count": 29,
   "id": "9395d6ea-2221-4eeb-9667-e7b82ce3a127",
   "metadata": {},
   "outputs": [
    {
     "data": {
      "text/html": [
       "<div>\n",
       "<style scoped>\n",
       "    .dataframe tbody tr th:only-of-type {\n",
       "        vertical-align: middle;\n",
       "    }\n",
       "\n",
       "    .dataframe tbody tr th {\n",
       "        vertical-align: top;\n",
       "    }\n",
       "\n",
       "    .dataframe thead th {\n",
       "        text-align: right;\n",
       "    }\n",
       "</style>\n",
       "<table border=\"1\" class=\"dataframe\">\n",
       "  <thead>\n",
       "    <tr style=\"text-align: right;\">\n",
       "      <th></th>\n",
       "      <th>Age</th>\n",
       "      <th>Na_to_K</th>\n",
       "      <th>Sex_F</th>\n",
       "      <th>Sex_M</th>\n",
       "      <th>BP_HIGH</th>\n",
       "      <th>BP_LOW</th>\n",
       "      <th>BP_NORMAL</th>\n",
       "      <th>Cholesterol_HIGH</th>\n",
       "      <th>Cholesterol_NORMAL</th>\n",
       "    </tr>\n",
       "  </thead>\n",
       "  <tbody>\n",
       "    <tr>\n",
       "      <th>66</th>\n",
       "      <td>29</td>\n",
       "      <td>12.856</td>\n",
       "      <td>0.0</td>\n",
       "      <td>1.0</td>\n",
       "      <td>1.0</td>\n",
       "      <td>0.0</td>\n",
       "      <td>0.0</td>\n",
       "      <td>1.0</td>\n",
       "      <td>0.0</td>\n",
       "    </tr>\n",
       "  </tbody>\n",
       "</table>\n",
       "</div>"
      ],
      "text/plain": [
       "    Age  Na_to_K  Sex_F  Sex_M  BP_HIGH  BP_LOW  BP_NORMAL  Cholesterol_HIGH  \\\n",
       "66   29   12.856    0.0    1.0      1.0     0.0        0.0               1.0   \n",
       "\n",
       "    Cholesterol_NORMAL  \n",
       "66                 0.0  "
      ]
     },
     "execution_count": 29,
     "metadata": {},
     "output_type": "execute_result"
    }
   ],
   "source": [
    "X_train.iloc[1:2,:]"
   ]
  },
  {
   "cell_type": "code",
   "execution_count": 30,
   "id": "5db14660-1fd2-4b94-a862-ede526d9021c",
   "metadata": {},
   "outputs": [],
   "source": [
    "v=X_train.iloc[1:2,:]"
   ]
  },
  {
   "cell_type": "code",
   "execution_count": 31,
   "id": "e3e08f60-5fd2-4918-9d06-910e7df92794",
   "metadata": {},
   "outputs": [
    {
     "data": {
      "text/plain": [
       "array([3.])"
      ]
     },
     "execution_count": 31,
     "metadata": {},
     "output_type": "execute_result"
    }
   ],
   "source": [
    "p=ss.transform(v)\n",
    "lr.predict(p)"
   ]
  },
  {
   "cell_type": "code",
   "execution_count": null,
   "id": "a50b7cc8-4220-498a-9042-fcc93cfe7c0b",
   "metadata": {},
   "outputs": [],
   "source": []
  },
  {
   "cell_type": "code",
   "execution_count": 32,
   "id": "c8f7046a-2313-433b-a6ec-da2f29aca3a8",
   "metadata": {},
   "outputs": [],
   "source": [
    "import pickle as pkl\n",
    "pkl.dump(ss,open('standard drugs','wb'))\n",
    "pkl.dump(lr,open('model of drugs','wb'))\n"
   ]
  },
  {
   "cell_type": "code",
   "execution_count": null,
   "id": "6a525c81-f7d2-4800-b5c8-ecec1b1f3119",
   "metadata": {},
   "outputs": [],
   "source": []
  }
 ],
 "metadata": {
  "kernelspec": {
   "display_name": "Python 3.8.10 64-bit",
   "language": "python",
   "name": "python3"
  },
  "language_info": {
   "codemirror_mode": {
    "name": "ipython",
    "version": 3
   },
   "file_extension": ".py",
   "mimetype": "text/x-python",
   "name": "python",
   "nbconvert_exporter": "python",
   "pygments_lexer": "ipython3",
   "version": "3.8.10"
  },
  "vscode": {
   "interpreter": {
    "hash": "e7370f93d1d0cde622a1f8e1c04877d8463912d04d973331ad4851f04de6915a"
   }
  }
 },
 "nbformat": 4,
 "nbformat_minor": 5
}
